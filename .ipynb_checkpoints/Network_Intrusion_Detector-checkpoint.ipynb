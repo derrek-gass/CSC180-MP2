{
 "cells": [
  {
   "cell_type": "markdown",
   "metadata": {},
   "source": [
    "## Mini-Project 2: Network Intrusion Detector\n",
    "\n",
    "\n",
    "#### CSC 180  Intelligent Systems (Fall 2019)\n",
    "#### Derrek Gass , Alexander Lee\n",
    "#### 10-11-2019"
   ]
  },
  {
   "cell_type": "code",
   "execution_count": 1,
   "metadata": {},
   "outputs": [],
   "source": [
    "%matplotlib inline\n",
    "import matplotlib.pyplot as plt\n",
    "from matplotlib.pyplot import figure, show\n",
    "\n",
    "import collections\n",
    "\n",
    "import io\n",
    "import requests\n",
    "import shutil\n",
    "import os, json\n",
    "import csv\n",
    "\n",
    "from sklearn import metrics\n",
    "from sklearn import preprocessing\n",
    "from sklearn.model_selection import train_test_split\n",
    "import sklearn.feature_extraction.text as sk_text\n",
    "from sklearn.metrics import confusion_matrix, classification_report, roc_curve, auc\n",
    "\n",
    "\n",
    "import numpy as np\n",
    "import pandas as pd\n",
    "\n",
    "import tensorflow as tf\n",
    "import tensorflow.keras\n",
    "from tensorflow.keras.models import Sequential\n",
    "from tensorflow.keras.layers import Dense, Activation, Dropout, Flatten, Conv2D, MaxPooling2D\n",
    "from tensorflow.keras.callbacks import EarlyStopping, ModelCheckpoint\n",
    "from tensorflow.keras import optimizers, regularizers\n",
    "\n",
    "\n",
    "\n",
    "\n",
    "# Encode text values to dummy variables(i.e. [1,0,0],[0,1,0],[0,0,1] for red,green,blue)\n",
    "def encode_text_dummy(df, name):\n",
    "    dummies = pd.get_dummies(df[name])\n",
    "    for x in dummies.columns:\n",
    "        dummy_name = \"{}-{}\".format(name, x)\n",
    "        df[dummy_name] = dummies[x]\n",
    "    df.drop(name, axis=1, inplace=True)\n",
    "\n",
    "\n",
    "# Encode text values to indexes(i.e. [1],[2],[3] for red,green,blue).\n",
    "def encode_text_index(df, name):\n",
    "    le = preprocessing.LabelEncoder()\n",
    "    df[name] = le.fit_transform(df[name])\n",
    "    return le.classes_\n",
    "\n",
    "\n",
    "# Encode a numeric column as zscores\n",
    "def encode_numeric_zscore(df, name, mean=None, sd=None):\n",
    "    if mean is None:\n",
    "        mean = df[name].mean()\n",
    "\n",
    "    if sd is None:\n",
    "        sd = df[name].std()\n",
    "\n",
    "    df[name] = (df[name] - mean) / sd\n",
    "\n",
    "\n",
    "# Convert all missing values in the specified column to the median\n",
    "def missing_median(df, name):\n",
    "    med = df[name].median()\n",
    "    df[name] = df[name].fillna(med)\n",
    "\n",
    "\n",
    "# Convert all missing values in the specified column to the default\n",
    "def missing_default(df, name, default_value):\n",
    "    df[name] = df[name].fillna(default_value)\n",
    "\n",
    "\n",
    "# Convert a Pandas dataframe to the x,y inputs that TensorFlow needs\n",
    "def to_xy(df, target):\n",
    "    result = []\n",
    "    for x in df.columns:\n",
    "        if x != target:\n",
    "            result.append(x)\n",
    "    # find out the type of the target column. \n",
    "    target_type = df[target].dtypes\n",
    "    target_type = target_type[0] if isinstance(target_type, collections.Sequence) else target_type\n",
    "    # Encode to int for classification, float otherwise. TensorFlow likes 32 bits.\n",
    "    if target_type in (np.int64, np.int32):\n",
    "        # Classification\n",
    "        dummies = pd.get_dummies(df[target])\n",
    "        return df[result].values.astype(np.float32), dummies.values.astype(np.float32)\n",
    "    else:\n",
    "        # Regression\n",
    "        return df[result].values.astype(np.float32), df[target].values.astype(np.float32)\n",
    "\n",
    "# Nicely formatted time string\n",
    "def hms_string(sec_elapsed):\n",
    "    h = int(sec_elapsed / (60 * 60))\n",
    "    m = int((sec_elapsed % (60 * 60)) / 60)\n",
    "    s = sec_elapsed % 60\n",
    "    return \"{}:{:>02}:{:>05.2f}\".format(h, m, s)\n",
    "\n",
    "\n",
    "# Remove all rows where the specified column is +/- sd standard deviations\n",
    "def remove_outliers(df, name, sd):\n",
    "    drop_rows = df.index[(np.abs(df[name] - df[name].mean()) >= (sd * df[name].std()))]\n",
    "    df.drop(drop_rows, axis=0, inplace=True)\n",
    "\n",
    "\n",
    "# Encode a column to a range between normalized_low and normalized_high.\n",
    "def encode_numeric_range(df, name, normalized_low=-1, normalized_high=1,\n",
    "                         data_low=None, data_high=None):\n",
    "    if data_low is None:\n",
    "        data_low = min(df[name])\n",
    "        data_high = max(df[name])\n",
    "\n",
    "    df[name] = ((df[name] - data_low) / (data_high - data_low)) \\\n",
    "               * (normalized_high - normalized_low) + normalized_low\n",
    "\n",
    "    \n",
    "# Regression chart.\n",
    "def chart_regression(pred,y,sort=True):\n",
    "    t = pd.DataFrame({'pred' : pred, 'y' : y.flatten()})\n",
    "    if sort:\n",
    "        t.sort_values(by=['y'],inplace=True)\n",
    "    a = plt.plot(t['y'].tolist(),label='expected')\n",
    "    b = plt.plot(t['pred'].tolist(),label='prediction')\n",
    "    plt.ylabel('output')\n",
    "    plt.legend()\n",
    "    plt.show()\n",
    "\n",
    "# Plot a confusion matrix.\n",
    "# cm is the confusion matrix, names are the names of the classes.\n",
    "def plot_confusion_matrix(cm, names, title='Confusion matrix', cmap=plt.cm.Blues):\n",
    "    plt.imshow(cm, interpolation='nearest', cmap=cmap)\n",
    "    plt.title(title)\n",
    "    plt.colorbar()\n",
    "    tick_marks = np.arange(len(names))\n",
    "    plt.xticks(tick_marks, names, rotation=45)\n",
    "    plt.yticks(tick_marks, names)\n",
    "    plt.tight_layout()\n",
    "    plt.ylabel('True label')\n",
    "    plt.xlabel('Predicted label')\n",
    "    \n",
    "\n",
    "# Plot an ROC. pred - the predictions, y - the expected output.\n",
    "def plot_roc(pred,y):\n",
    "    fpr, tpr, thresholds = roc_curve(y, pred)\n",
    "    roc_auc = auc(fpr, tpr)\n",
    "\n",
    "    plt.figure()\n",
    "    plt.plot(fpr, tpr, label='ROC curve (area = %0.2f)' % roc_auc)\n",
    "    plt.plot([0, 1], [0, 1], 'k--')\n",
    "    plt.xlim([0.0, 1.0])\n",
    "    plt.ylim([0.0, 1.05])\n",
    "    plt.xlabel('False Positive Rate')\n",
    "    plt.ylabel('True Positive Rate')\n",
    "    plt.title('Receiver Operating Characteristic (ROC)')\n",
    "    plt.legend(loc=\"lower right\")\n",
    "    plt.show()\n",
    "    "
   ]
  },
  {
   "cell_type": "markdown",
   "metadata": {},
   "source": [
    "### Data Preparation"
   ]
  },
  {
   "cell_type": "code",
   "execution_count": 2,
   "metadata": {},
   "outputs": [],
   "source": [
    "#encode_csv = X_test_prep.to_csv(r'data/nid_test_prep.csv', header=True, index=False)"
   ]
  },
  {
   "cell_type": "code",
   "execution_count": 102,
   "metadata": {},
   "outputs": [],
   "source": [
    "X_test_prep = pd.read_csv(r'data/nid_test_prep.csv')"
   ]
  },
  {
   "cell_type": "code",
   "execution_count": 103,
   "metadata": {},
   "outputs": [],
   "source": [
    "y=X_test_prep['outcome_normal.']\n",
    "X_test_prep=X_test_prep.drop('outcome_normal.', axis=1)\n",
    "X_numpy = X_test_prep.to_numpy()"
   ]
  },
  {
   "cell_type": "code",
   "execution_count": 104,
   "metadata": {},
   "outputs": [],
   "source": [
    "x = X_numpy.reshape((len(X_test_prep), 1, len(X_test_prep.columns), 1))"
   ]
  },
  {
   "cell_type": "code",
   "execution_count": 105,
   "metadata": {},
   "outputs": [],
   "source": [
    "# Split into train/test\n",
    "x_train, x_test, y_train, y_test = train_test_split(x, y, test_size=0.25, random_state=42)\n",
    "x_train = x_train.astype('float32')\n",
    "x_test = x_test.astype('float32')\n",
    "y_train = tf.keras.utils.to_categorical(y_train, 2)\n",
    "y_test = tf.keras.utils.to_categorical(y_test, 2)"
   ]
  },
  {
   "cell_type": "code",
   "execution_count": 106,
   "metadata": {},
   "outputs": [
    {
     "data": {
      "text/plain": [
       "(86631, 1, 118, 1)"
      ]
     },
     "execution_count": 106,
     "metadata": {},
     "output_type": "execute_result"
    }
   ],
   "source": [
    "x_train.shape"
   ]
  },
  {
   "cell_type": "code",
   "execution_count": 107,
   "metadata": {},
   "outputs": [
    {
     "data": {
      "text/plain": [
       "(86631, 2)"
      ]
     },
     "execution_count": 107,
     "metadata": {},
     "output_type": "execute_result"
    }
   ],
   "source": [
    "y_train.shape"
   ]
  },
  {
   "cell_type": "code",
   "execution_count": 108,
   "metadata": {},
   "outputs": [
    {
     "data": {
      "text/plain": [
       "(28877, 1, 118, 1)"
      ]
     },
     "execution_count": 108,
     "metadata": {},
     "output_type": "execute_result"
    }
   ],
   "source": [
    "x_test.shape"
   ]
  },
  {
   "cell_type": "code",
   "execution_count": 109,
   "metadata": {},
   "outputs": [
    {
     "data": {
      "text/plain": [
       "(28877, 2)"
      ]
     },
     "execution_count": 109,
     "metadata": {},
     "output_type": "execute_result"
    }
   ],
   "source": [
    "y_test.shape"
   ]
  },
  {
   "cell_type": "markdown",
   "metadata": {},
   "source": [
    "### Convolutional Model"
   ]
  },
  {
   "cell_type": "code",
   "execution_count": 120,
   "metadata": {},
   "outputs": [],
   "source": [
    "# define a CNN\n",
    "\n",
    "cnn = Sequential()\n",
    "cnn.add(Conv2D(64, kernel_size=(1, y_train.shape[1]), strides=(1, 1),\n",
    "                 activation='tanh',\n",
    "                 input_shape=(1, x_train.shape[2], 1)))\n",
    "cnn.add(MaxPooling2D(pool_size=(1,2)))\n",
    "cnn.add(Conv2D(x_train.shape[2], kernel_size=(1, y_train.shape[1]), strides=(1, 1),\n",
    "                 activation='tanh'))\n",
    "cnn.add(MaxPooling2D(pool_size=(1,2)))\n",
    "    \n",
    "    \n",
    "cnn.add(Flatten())\n",
    "cnn.add(Dense(32, activation=\"relu\"))\n",
    "cnn.add(Dropout(0.5))\n",
    "cnn.add(Dense(y_train.shape[1], activation=\"softmax\"))\n",
    "\n",
    "cnn.compile(loss=\"categorical_crossentropy\", optimizer=\"adam\", metrics=['accuracy'])"
   ]
  },
  {
   "cell_type": "code",
   "execution_count": 124,
   "metadata": {},
   "outputs": [
    {
     "name": "stdout",
     "output_type": "stream",
     "text": [
      "Model: \"sequential_20\"\n",
      "_________________________________________________________________\n",
      "Layer (type)                 Output Shape              Param #   \n",
      "=================================================================\n",
      "conv2d_10 (Conv2D)           (None, 1, 117, 64)        192       \n",
      "_________________________________________________________________\n",
      "max_pooling2d_10 (MaxPooling (None, 1, 58, 64)         0         \n",
      "_________________________________________________________________\n",
      "conv2d_11 (Conv2D)           (None, 1, 57, 118)        15222     \n",
      "_________________________________________________________________\n",
      "max_pooling2d_11 (MaxPooling (None, 1, 28, 118)        0         \n",
      "_________________________________________________________________\n",
      "flatten_5 (Flatten)          (None, 3304)              0         \n",
      "_________________________________________________________________\n",
      "dense_43 (Dense)             (None, 32)                105760    \n",
      "_________________________________________________________________\n",
      "dropout_5 (Dropout)          (None, 32)                0         \n",
      "_________________________________________________________________\n",
      "dense_44 (Dense)             (None, 2)                 66        \n",
      "=================================================================\n",
      "Total params: 121,240\n",
      "Trainable params: 121,240\n",
      "Non-trainable params: 0\n",
      "_________________________________________________________________\n"
     ]
    }
   ],
   "source": [
    "cnn.summary()"
   ]
  },
  {
   "cell_type": "code",
   "execution_count": 123,
   "metadata": {},
   "outputs": [
    {
     "name": "stdout",
     "output_type": "stream",
     "text": [
      "Train on 86631 samples, validate on 28877 samples\n",
      "Epoch 1/100\n",
      "86631/86631 - 6s - loss: 0.0143 - acc: 0.9952 - val_loss: 0.0096 - val_acc: 0.9959\n",
      "Epoch 2/100\n",
      "86631/86631 - 5s - loss: 0.0126 - acc: 0.9954 - val_loss: 0.0091 - val_acc: 0.9964\n",
      "Epoch 3/100\n",
      "86631/86631 - 5s - loss: 0.0118 - acc: 0.9958 - val_loss: 0.0089 - val_acc: 0.9966\n",
      "Epoch 4/100\n",
      "86631/86631 - 5s - loss: 0.0111 - acc: 0.9963 - val_loss: 0.0076 - val_acc: 0.9977\n",
      "Epoch 5/100\n",
      "86631/86631 - 5s - loss: 0.0101 - acc: 0.9969 - val_loss: 0.0069 - val_acc: 0.9982\n",
      "Epoch 6/100\n",
      "86631/86631 - 5s - loss: 0.0096 - acc: 0.9970 - val_loss: 0.0062 - val_acc: 0.9978\n",
      "Epoch 7/100\n",
      "86631/86631 - 5s - loss: 0.0090 - acc: 0.9973 - val_loss: 0.0063 - val_acc: 0.9978\n",
      "Epoch 8/100\n",
      "86631/86631 - 5s - loss: 0.0088 - acc: 0.9974 - val_loss: 0.0061 - val_acc: 0.9979\n",
      "Epoch 9/100\n",
      "86631/86631 - 5s - loss: 0.0084 - acc: 0.9973 - val_loss: 0.0059 - val_acc: 0.9981\n",
      "Epoch 10/100\n",
      "86631/86631 - 5s - loss: 0.0083 - acc: 0.9975 - val_loss: 0.0072 - val_acc: 0.9974\n",
      "Epoch 11/100\n",
      "86631/86631 - 5s - loss: 0.0080 - acc: 0.9974 - val_loss: 0.0068 - val_acc: 0.9982\n",
      "Epoch 12/100\n",
      "86631/86631 - 5s - loss: 0.0076 - acc: 0.9976 - val_loss: 0.0059 - val_acc: 0.9985\n",
      "Epoch 00012: early stopping\n",
      "Model: CNN, Activation: tanh, tanh, relu, softmax, Optimizer: adam, Kernel number/size: 118/64, 1x1\n",
      "Elapsed time: 0:01:04.74\n"
     ]
    }
   ],
   "source": [
    "import time\n",
    "\n",
    "start_time = time.time()\n",
    "\n",
    "# 1% of dataset\n",
    "# Define batch_size and # of epochs\n",
    "batch_size = 128\n",
    "\n",
    "monitor = EarlyStopping(monitor='val_loss', min_delta=1e-6, patience=3, verbose=1, mode='auto')\n",
    "checkpointer = ModelCheckpoint(filepath=\"data/best_weights.hdf5\", verbose=0, save_best_only=True) # save best model\n",
    "\n",
    "cnn.fit(x_train, y_train,     \n",
    "        batch_size=batch_size,\n",
    "        callbacks=[monitor, checkpointer],\n",
    "        epochs=100,\n",
    "        verbose=2,\n",
    "        validation_data=(x_test, y_test))\n",
    "\n",
    "cnn.load_weights('data/best_weights.hdf5')\n",
    "elapsed_time = time.time() - start_time\n",
    "\n",
    "print(\"Model: CNN, Activation: tanh, tanh, relu, softmax, Optimizer: adam, Kernel number/size: 118/64, 1x1\")\n",
    "print(\"Elapsed time: {}\".format(hms_string(elapsed_time)))"
   ]
  },
  {
   "cell_type": "code",
   "execution_count": 126,
   "metadata": {},
   "outputs": [
    {
     "name": "stdout",
     "output_type": "stream",
     "text": [
      "100/100 - 0s - loss: 0.0212 - acc: 0.9900\n"
     ]
    }
   ],
   "source": [
    "# evaluate() computes the loss and accuracy\n",
    "score = cnn.evaluate(x_test[0:100], y_test[0:100], verbose=2)"
   ]
  },
  {
   "cell_type": "code",
   "execution_count": 127,
   "metadata": {},
   "outputs": [
    {
     "name": "stdout",
     "output_type": "stream",
     "text": [
      "Test loss: 0.021198396283434704\n",
      "Test accuracy: 0.9900000095367432\n"
     ]
    }
   ],
   "source": [
    "print('Test loss: {}'.format(score[0]))\n",
    "print('Test accuracy: {}'.format(score[1]))"
   ]
  },
  {
   "cell_type": "code",
   "execution_count": 128,
   "metadata": {},
   "outputs": [
    {
     "name": "stdout",
     "output_type": "stream",
     "text": [
      "Accuracy: 0.99\n",
      "Averaged F1: 0.9899867765232429\n",
      "              precision    recall  f1-score   support\n",
      "\n",
      "           0       1.00      0.98      0.99        44\n",
      "           1       0.98      1.00      0.99        56\n",
      "\n",
      "    accuracy                           0.99       100\n",
      "   macro avg       0.99      0.99      0.99       100\n",
      "weighted avg       0.99      0.99      0.99       100\n",
      "\n"
     ]
    }
   ],
   "source": [
    "y_true = np.argmax(y_test[0:100],axis=1)\n",
    "pred = cnn.predict(x_test[0:100])\n",
    "pred = np.argmax(pred,axis=1)\n",
    "\n",
    "\n",
    "score = metrics.accuracy_score(y_true, pred)\n",
    "print('Accuracy: {}'.format(score))\n",
    "\n",
    "\n",
    "f1 = metrics.f1_score(y_true, pred, average='weighted')\n",
    "print('Averaged F1: {}'.format(f1))\n",
    "\n",
    "           \n",
    "print(metrics.classification_report(y_true, pred))\n"
   ]
  },
  {
   "cell_type": "code",
   "execution_count": 129,
   "metadata": {},
   "outputs": [
    {
     "data": {
      "image/png": "[encoded data removed]",
      "text/plain": [
       "<Figure size 432x288 with 1 Axes>"
      ]
     },
     "metadata": {
      "needs_background": "light"
     },
     "output_type": "display_data"
    }
   ],
   "source": [
    "pred = cnn.predict(x_test[0:100])\n",
    "pred = pred[:,1] # Only positive class (M)\n",
    "plot_roc(pred,y_true)"
   ]
  },
  {
   "cell_type": "code",
   "execution_count": 130,
   "metadata": {},
   "outputs": [],
   "source": [
    "cnn.load_weights('data/best_weights.hdf5')"
   ]
  },
  {
   "cell_type": "code",
   "execution_count": 132,
   "metadata": {},
   "outputs": [
    {
     "name": "stdout",
     "output_type": "stream",
     "text": [
      "[[43  1]\n",
      " [ 0 56]]\n"
     ]
    },
    {
     "data": {
      "image/png": "[encoded data removed]",
      "text/plain": [
       "<Figure size 432x288 with 2 Axes>"
      ]
     },
     "metadata": {
      "needs_background": "light"
     },
     "output_type": "display_data"
    },
    {
     "name": "stdout",
     "output_type": "stream",
     "text": [
      "              precision    recall  f1-score   support\n",
      "\n",
      "           0       1.00      0.98      0.99        44\n",
      "           1       0.98      1.00      0.99        56\n",
      "\n",
      "    accuracy                           0.99       100\n",
      "   macro avg       0.99      0.99      0.99       100\n",
      "weighted avg       0.99      0.99      0.99       100\n",
      "\n"
     ]
    }
   ],
   "source": [
    "# Plot non-normalized confusion matrix\n",
    "y_true = np.argmax(y_test[0:100],axis=1)\n",
    "pred = cnn.predict(x_test[0:100])\n",
    "pred = np.argmax(pred,axis=1)\n",
    "\n",
    "\n",
    "cm = confusion_matrix(y_true, pred)\n",
    "print(cm)\n",
    "plt.figure()\n",
    "plot_confusion_matrix(cm, ['normal','intruder'])\n",
    "plt.show()\n",
    "print(classification_report(y_true, pred))"
   ]
  },
  {
   "cell_type": "code",
   "execution_count": 133,
   "metadata": {},
   "outputs": [
    {
     "name": "stdout",
     "output_type": "stream",
     "text": [
      "Score (RMSE): 0.1\n"
     ]
    },
    {
     "data": {
      "image/png": "[encoded data removed]",
      "text/plain": [
       "<Figure size 432x288 with 1 Axes>"
      ]
     },
     "metadata": {
      "needs_background": "light"
     },
     "output_type": "display_data"
    }
   ],
   "source": [
    "reg_score = np.sqrt(metrics.mean_squared_error(pred,y_true))\n",
    "print(\"Score (RMSE): {}\".format(reg_score))\n",
    "\n",
    "# Plot the chart\n",
    "chart_regression(pred, y_true, sort=True)"
   ]
  },
  {
   "cell_type": "markdown",
   "metadata": {},
   "source": [
    "### Dense Model"
   ]
  },
  {
   "cell_type": "code",
   "execution_count": 134,
   "metadata": {},
   "outputs": [],
   "source": [
    "X_test_prep = pd.read_csv(r'data/nid_test_prep.csv')"
   ]
  },
  {
   "cell_type": "code",
   "execution_count": 135,
   "metadata": {},
   "outputs": [],
   "source": [
    "y=X_test_prep['outcome_normal.']\n",
    "X_test_prep=X_test_prep.drop('outcome_normal.', axis=1)\n",
    "X_numpy = X_test_prep.to_numpy()"
   ]
  },
  {
   "cell_type": "code",
   "execution_count": 136,
   "metadata": {},
   "outputs": [],
   "source": [
    "# Split into train/test\n",
    "x_train, x_test, y_train, y_test = train_test_split(X_numpy, y, test_size=0.25, random_state=42)\n",
    "x_train = x_train.astype('float32')\n",
    "x_test = x_test.astype('float32')\n",
    "y_train = tf.keras.utils.to_categorical(y_train, 2)\n",
    "y_test = tf.keras.utils.to_categorical(y_test, 2)"
   ]
  },
  {
   "cell_type": "code",
   "execution_count": 137,
   "metadata": {},
   "outputs": [
    {
     "name": "stdout",
     "output_type": "stream",
     "text": [
      "Train on 86631 samples, validate on 28877 samples\n",
      "Epoch 1/100\n",
      "86631/86631 - 7s - loss: 0.0558 - acc: 0.9816 - val_loss: 0.0352 - val_acc: 0.9908\n",
      "Epoch 2/100\n",
      "86631/86631 - 6s - loss: 0.0195 - acc: 0.9940 - val_loss: 0.0203 - val_acc: 0.9935\n",
      "Epoch 3/100\n",
      "86631/86631 - 6s - loss: 0.0149 - acc: 0.9953 - val_loss: 0.0207 - val_acc: 0.9922\n",
      "Epoch 4/100\n",
      "86631/86631 - 7s - loss: 0.0119 - acc: 0.9964 - val_loss: 0.0169 - val_acc: 0.9939\n",
      "Epoch 5/100\n",
      "86631/86631 - 6s - loss: 0.0106 - acc: 0.9969 - val_loss: 0.0224 - val_acc: 0.9927\n",
      "Epoch 6/100\n",
      "86631/86631 - 7s - loss: 0.0109 - acc: 0.9968 - val_loss: 0.0107 - val_acc: 0.9976\n",
      "Epoch 7/100\n",
      "86631/86631 - 6s - loss: 0.0093 - acc: 0.9972 - val_loss: 0.0128 - val_acc: 0.9966\n",
      "Epoch 8/100\n",
      "86631/86631 - 6s - loss: 0.0088 - acc: 0.9974 - val_loss: 0.0083 - val_acc: 0.9979\n",
      "Epoch 9/100\n",
      "86631/86631 - 6s - loss: 0.0091 - acc: 0.9973 - val_loss: 0.0089 - val_acc: 0.9979\n",
      "Epoch 10/100\n",
      "86631/86631 - 6s - loss: 0.0087 - acc: 0.9975 - val_loss: 0.0084 - val_acc: 0.9978\n",
      "Epoch 11/100\n",
      "86631/86631 - 6s - loss: 0.0078 - acc: 0.9976 - val_loss: 0.0097 - val_acc: 0.9967\n",
      "Epoch 00011: early stopping\n",
      "Model: Sequential, Activation: tanh, Layers, count: 32, 6, 2  Optimizer: adam \n",
      "Elapsed time: 0:07:16.35\n"
     ]
    }
   ],
   "source": [
    "# Defining a dense model\n",
    "model = Sequential()\n",
    "model.add(Dense(32, input_dim=X_numpy.shape[1], activation='tanh'))\n",
    "model.add(Dense(6))\n",
    "model.add(Dense(2,activation='softmax'))\n",
    "model.compile(loss='categorical_crossentropy', optimizer='adam', metrics=['accuracy'])\n",
    "\n",
    "monitor = EarlyStopping(monitor='val_loss', min_delta=1e-6, patience=3, verbose=1, mode='auto')\n",
    "checkpointer = ModelCheckpoint(filepath=\"data/best_fullyconnected_weights.hdf5\", verbose=0, save_best_only=True) # save best model\n",
    "\n",
    "model.fit(x_train,\n",
    "          y_train,\n",
    "          validation_data=(x_test,y_test),\n",
    "          callbacks=[monitor,checkpointer],\n",
    "          verbose=2,epochs=100)\n",
    "\n",
    "model.load_weights('data/best_fullyconnected_weights.hdf5') # load weights from best model\n",
    "\n",
    "\n",
    "elapsed_time = time.time() - start_time\n",
    "print(\"Model: Sequential, Activation: tanh, Layers, count: 32, 6, 2  Optimizer: adam \")\n",
    "print(\"Elapsed time: {}\".format(hms_string(elapsed_time)))"
   ]
  },
  {
   "cell_type": "code",
   "execution_count": 138,
   "metadata": {},
   "outputs": [
    {
     "name": "stdout",
     "output_type": "stream",
     "text": [
      "100/100 - 0s - loss: 0.0500 - acc: 0.9900\n"
     ]
    }
   ],
   "source": [
    "# evaluate() computes the loss and accuracy\n",
    "score = model.evaluate(x_test[0:100], y_test[0:100], verbose=2)"
   ]
  },
  {
   "cell_type": "code",
   "execution_count": 144,
   "metadata": {},
   "outputs": [
    {
     "name": "stdout",
     "output_type": "stream",
     "text": [
      "Model: \"sequential_22\"\n",
      "_________________________________________________________________\n",
      "Layer (type)                 Output Shape              Param #   \n",
      "=================================================================\n",
      "dense_48 (Dense)             (None, 32)                3808      \n",
      "_________________________________________________________________\n",
      "dense_49 (Dense)             (None, 6)                 198       \n",
      "_________________________________________________________________\n",
      "dense_50 (Dense)             (None, 2)                 14        \n",
      "=================================================================\n",
      "Total params: 4,020\n",
      "Trainable params: 4,020\n",
      "Non-trainable params: 0\n",
      "_________________________________________________________________\n"
     ]
    }
   ],
   "source": [
    "model.summary()"
   ]
  },
  {
   "cell_type": "code",
   "execution_count": 139,
   "metadata": {},
   "outputs": [
    {
     "name": "stdout",
     "output_type": "stream",
     "text": [
      "Test loss: 0.050018357187509535\n",
      "Test accuracy: 0.9900000095367432\n"
     ]
    }
   ],
   "source": [
    "print('Test loss: {}'.format(score[0]))\n",
    "print('Test accuracy: {}'.format(score[1]))"
   ]
  },
  {
   "cell_type": "code",
   "execution_count": 140,
   "metadata": {},
   "outputs": [
    {
     "name": "stdout",
     "output_type": "stream",
     "text": [
      "Accuracy: 0.99\n",
      "Averaged F1: 0.9899867765232429\n",
      "              precision    recall  f1-score   support\n",
      "\n",
      "           0       1.00      0.98      0.99        44\n",
      "           1       0.98      1.00      0.99        56\n",
      "\n",
      "    accuracy                           0.99       100\n",
      "   macro avg       0.99      0.99      0.99       100\n",
      "weighted avg       0.99      0.99      0.99       100\n",
      "\n"
     ]
    }
   ],
   "source": [
    "y_true = np.argmax(y_test[0:100],axis=1)\n",
    "pred = model.predict(x_test[0:100])\n",
    "pred = np.argmax(pred,axis=1)\n",
    "\n",
    "\n",
    "score = metrics.accuracy_score(y_true, pred)\n",
    "print('Accuracy: {}'.format(score))\n",
    "\n",
    "\n",
    "f1 = metrics.f1_score(y_true, pred, average='weighted')\n",
    "print('Averaged F1: {}'.format(f1))\n",
    "\n",
    "           \n",
    "print(metrics.classification_report(y_true, pred))"
   ]
  },
  {
   "cell_type": "code",
   "execution_count": 141,
   "metadata": {},
   "outputs": [
    {
     "data": {
      "image/png": "[encoded data removed]",
      "text/plain": [
       "<Figure size 432x288 with 1 Axes>"
      ]
     },
     "metadata": {
      "needs_background": "light"
     },
     "output_type": "display_data"
    }
   ],
   "source": [
    "pred = model.predict(x_test[0:100])\n",
    "pred = pred[:,1] # Only positive class (M)\n",
    "plot_roc(pred,y_true)"
   ]
  },
  {
   "cell_type": "code",
   "execution_count": 142,
   "metadata": {},
   "outputs": [
    {
     "name": "stdout",
     "output_type": "stream",
     "text": [
      "[[43  1]\n",
      " [ 0 56]]\n"
     ]
    },
    {
     "data": {
      "image/png": "[encoded data removed]",
      "text/plain": [
       "<Figure size 432x288 with 2 Axes>"
      ]
     },
     "metadata": {
      "needs_background": "light"
     },
     "output_type": "display_data"
    },
    {
     "name": "stdout",
     "output_type": "stream",
     "text": [
      "              precision    recall  f1-score   support\n",
      "\n",
      "           0       1.00      0.98      0.99        44\n",
      "           1       0.98      1.00      0.99        56\n",
      "\n",
      "    accuracy                           0.99       100\n",
      "   macro avg       0.99      0.99      0.99       100\n",
      "weighted avg       0.99      0.99      0.99       100\n",
      "\n"
     ]
    }
   ],
   "source": [
    "y_true = np.argmax(y_test[0:100],axis=1)\n",
    "pred = model.predict(x_test[0:100])\n",
    "pred = np.argmax(pred,axis=1)\n",
    "\n",
    "cm = confusion_matrix(y_true, pred)\n",
    "print(cm)\n",
    "plt.figure()\n",
    "plot_confusion_matrix(cm, ['normal','intruder'])\n",
    "plt.show()\n",
    "print(classification_report(y_true, pred))"
   ]
  },
  {
   "cell_type": "code",
   "execution_count": 143,
   "metadata": {},
   "outputs": [
    {
     "name": "stdout",
     "output_type": "stream",
     "text": [
      "Score (RMSE): 0.1\n"
     ]
    },
    {
     "data": {
      "image/png": "[encoded data removed]",
      "text/plain": [
       "<Figure size 432x288 with 1 Axes>"
      ]
     },
     "metadata": {
      "needs_background": "light"
     },
     "output_type": "display_data"
    }
   ],
   "source": [
    "reg_score2 = np.sqrt(metrics.mean_squared_error(pred,y_true))\n",
    "print(\"Score (RMSE): {}\".format(reg_score2))\n",
    "\n",
    "# Plot the chart\n",
    "chart_regression(pred, y_true, sort=True)"
   ]
  }
 ],
 "metadata": {
  "anaconda-cloud": {},
  "kernelspec": {
   "display_name": "Python 3",
   "language": "python",
   "name": "python3"
  },
  "language_info": {
   "codemirror_mode": {
    "name": "ipython",
    "version": 3
   },
   "file_extension": ".py",
   "mimetype": "text/x-python",
   "name": "python",
   "nbconvert_exporter": "python",
   "pygments_lexer": "ipython3",
   "version": "3.7.4"
  }
 },
 "nbformat": 4,
 "nbformat_minor": 4
}
